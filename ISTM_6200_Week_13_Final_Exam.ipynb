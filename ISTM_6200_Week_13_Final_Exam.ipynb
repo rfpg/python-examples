{
  "nbformat": 4,
  "nbformat_minor": 0,
  "metadata": {
    "colab": {
      "name": " ISTM 6200 - Week 13 - Final Exam.ipynb",
      "provenance": [],
      "collapsed_sections": [],
      "include_colab_link": true
    },
    "kernelspec": {
      "name": "python3",
      "display_name": "Python 3"
    },
    "language_info": {
      "name": "python"
    }
  },
  "cells": [
    {
      "cell_type": "markdown",
      "metadata": {
        "id": "view-in-github",
        "colab_type": "text"
      },
      "source": [
        "<a href=\"https://colab.research.google.com/github/rfpg/python-examples/blob/main/ISTM_6200_Week_13_Final_Exam.ipynb\" target=\"_parent\"><img src=\"https://colab.research.google.com/assets/colab-badge.svg\" alt=\"Open In Colab\"/></a>"
      ]
    },
    {
      "cell_type": "markdown",
      "source": [
        "#**Final Exam**\n"
      ],
      "metadata": {
        "id": "8z51quTpLgtU"
      }
    },
    {
      "cell_type": "markdown",
      "source": [
        "## **A few things to note before you begin:**\n",
        "\n",
        "*  The scope in this Colab session is **global**, meaning you can use variables your create in earlier code cells. \n",
        "\n",
        "*  The **order of execution matters** as does the amount of times you run a single code cell during the same session.\n",
        "\n",
        "## **Here are the steps to complete the assignment:**\n",
        "0. Watch [this video](https://www.linkedin.com/learning/python-essential-training-14898805/how-computers-think) about how computers think.\n",
        "1. Click the **Copy to Drive** button of the read-only assignment document.\n",
        "2. Once you've made your own copy, follow the prompts written above each code snippet to guide the completion of each code cell.\n",
        "3. Run your code cells to make sure they are correct by clicking on the **Play** button.\n",
        "4. When your code cells have been completed, download the completed **.ipynb** notebook and upload it to the Blackboard assignment page."
      ],
      "metadata": {
        "id": "-img1aM5BoyY"
      }
    },
    {
      "cell_type": "markdown",
      "source": [
        "###Directive 1: Reorder the given list to read in alphabetical order. Use any combination of data structure methods covered throughout the course."
      ],
      "metadata": {
        "id": "wKOVGK9hLHLG"
      }
    },
    {
      "cell_type": "code",
      "execution_count": null,
      "metadata": {
        "id": "eHBcoVLSK1fa"
      },
      "outputs": [],
      "source": [
        "fruits = ['apples', 'pears', 'grapes', 'kiwi', 'bananas']\n",
        "\n",
        "#Write your answer here\n"
      ]
    },
    {
      "cell_type": "markdown",
      "source": [
        "###Directive 2: Convert your list to a key-value pair data structure."
      ],
      "metadata": {
        "id": "aUs8zNEr-w-K"
      }
    },
    {
      "cell_type": "code",
      "source": [
        "#Write your answer here\n",
        "\n"
      ],
      "metadata": {
        "id": "_oqPa_cqq13Y"
      },
      "execution_count": null,
      "outputs": []
    },
    {
      "cell_type": "markdown",
      "source": [
        "###Directive 3: Write a function to update the first, third, and fifth elements in your key-value pair data structure. Allow a user to update via the console.\n",
        "\n"
      ],
      "metadata": {
        "id": "0vcr5YW--7q7"
      }
    },
    {
      "cell_type": "code",
      "source": [
        "#Write your answer here\n"
      ],
      "metadata": {
        "id": "P2gj-0J36d4Z"
      },
      "execution_count": null,
      "outputs": []
    },
    {
      "cell_type": "markdown",
      "source": [
        "###**Directive 4: This is the core directive for the final exam and it is worth the most points so please take your time to carefully design the program before you get lost in the syntax of your code.**\n",
        "\n",
        "Write a program that takes a key-value user input using stream and and then updates the given key-value pair data structure. You'll have to consider the following:\n",
        "\n",
        "*   How to take and format a user input\n",
        "*   How to locate and update the specified entry in the data structure\n",
        "*   What exception to throw if the entry is not found"
      ],
      "metadata": {
        "id": "AMnToVrJd_hK"
      }
    },
    {
      "cell_type": "code",
      "source": [
        "# Python program showing \n",
        "# a use of input()\n",
        "val = input(\"Enter your key-value pair separated by a comma: \")\n",
        "print(val)\n",
        "\n",
        "thisdict = {\n",
        "  \"brand\": \"Ford\",\n",
        "  \"model\": \"Mustang\",\n",
        "  \"year\": 1964\n",
        "}\n",
        "\n",
        "#Write your answer here"
      ],
      "metadata": {
        "id": "FwNW0omEeVoV",
        "colab": {
          "base_uri": "https://localhost:8080/"
        },
        "outputId": "8e4bfd94-e441-4f6f-92b0-f36b015d71ba"
      },
      "execution_count": null,
      "outputs": [
        {
          "output_type": "stream",
          "name": "stdout",
          "text": [
            "Enter your key-value pair separated by a comma: test, 1\n",
            "test, 1\n"
          ]
        }
      ]
    }
  ]
}
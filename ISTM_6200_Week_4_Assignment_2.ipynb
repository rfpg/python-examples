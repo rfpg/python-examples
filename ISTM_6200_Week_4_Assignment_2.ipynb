{
  "nbformat": 4,
  "nbformat_minor": 0,
  "metadata": {
    "colab": {
      "name": "ISTM 6200 - Week 4 - Assignment 2.ipynb",
      "provenance": [],
      "collapsed_sections": [],
      "include_colab_link": true
    },
    "kernelspec": {
      "name": "python3",
      "display_name": "Python 3"
    },
    "language_info": {
      "name": "python"
    }
  },
  "cells": [
    {
      "cell_type": "markdown",
      "metadata": {
        "id": "view-in-github",
        "colab_type": "text"
      },
      "source": [
        "<a href=\"https://colab.research.google.com/github/rfpg/python-examples/blob/main/ISTM_6200_Week_4_Assignment_2.ipynb\" target=\"_parent\"><img src=\"https://colab.research.google.com/assets/colab-badge.svg\" alt=\"Open In Colab\"/></a>"
      ]
    },
    {
      "cell_type": "markdown",
      "source": [
        "# Welcome to the Learning Assignment for Week 4\n"
      ],
      "metadata": {
        "id": "8z51quTpLgtU"
      }
    },
    {
      "cell_type": "markdown",
      "source": [
        "## **A few things to note before you begin:**\n",
        "\n",
        "*  The scope in this Colab session is **global**, meaning you can use variables your create in earlier code cells. \n",
        "\n",
        "*  The **order of execution matters** as does the amount of times you run a single code cell during the same session.\n",
        "\n",
        "## **Here are the steps to complete the assignment:**\n",
        "0. Watch [this video](https://www.linkedin.com/learning/python-essential-training-14898805/how-computers-think) about how computers think.\n",
        "1. Click the **Copy to Drive** button of the read-only assignment document.\n",
        "2. Once you've made your own copy, follow the prompts written above each code snippet to guide the completion of each code cell.\n",
        "3. Run your code cells to make sure they are correct by clicking on the **Play** button.\n",
        "4. When your code cells have been completed, download the completed **.ipynb** notebook and upload it to the Blackboard assignment page."
      ],
      "metadata": {
        "id": "-img1aM5BoyY"
      }
    },
    {
      "cell_type": "markdown",
      "source": [
        "## Activity 1: take a series of nested conditionals and convert them to a conditional statement"
      ],
      "metadata": {
        "id": "wKOVGK9hLHLG"
      }
    },
    {
      "cell_type": "code",
      "execution_count": null,
      "metadata": {
        "id": "eHBcoVLSK1fa"
      },
      "outputs": [],
      "source": [
        "# Activity: take a nested set of conditionals and convert it to a chained conditional statement\n",
        "\n",
        "# nested conditional\n",
        "x = 1\n",
        "y = 2\n",
        "z = 3\n",
        "\n",
        "if x == 1: \n",
        "  if y == 2:\n",
        "    if z == 3:\n",
        "      print(\"The variables values match in this nested conditional statement!\")\n",
        "\n",
        "\n",
        "# chained conditional \n",
        "if x == 1 and y == 2 and z == 3:\n",
        "     print(\"The variables values match this chained conditional statement!\")"
      ]
    },
    {
      "cell_type": "markdown",
      "source": [
        "# Activity 2: Count to 5 using a while loop"
      ],
      "metadata": {
        "id": "aUs8zNEr-w-K"
      }
    },
    {
      "cell_type": "code",
      "source": [
        "# Activity 2a: Count to 5 using a while loop\n",
        "while x < 5:\n",
        "  x  = x + 1 # increment x by 1 each loop\n",
        "    print(\"Count to 5: \", x )"
      ],
      "metadata": {
        "id": "5-2b_Efd5b0s"
      },
      "execution_count": null,
      "outputs": []
    },
    {
      "cell_type": "code",
      "source": [
        "# Activity 2b: Cumulative - Add and assign\n",
        "i = 1\n",
        "while i <= 10:\n",
        "  print(i)\n",
        "  i += i"
      ],
      "metadata": {
        "id": "LyraFsGd6Z_3"
      },
      "execution_count": null,
      "outputs": []
    },
    {
      "cell_type": "markdown",
      "source": [
        "#Activity 3: Continue and Break\n"
      ],
      "metadata": {
        "id": "0vcr5YW--7q7"
      }
    },
    {
      "cell_type": "code",
      "source": [
        "#Activity 3a: Continue\n",
        "x = 0;\n",
        "\n",
        "while (x < 6) :\n",
        "x = x + 1\n",
        "print(\"Count: \", x) #this will from 2  \n",
        "\n",
        "if x < 3:\n",
        "  continue\n",
        "  else : \n",
        "    print(\"We're greater than 3!\") #prints for values greater than 3"
      ],
      "metadata": {
        "id": "P2gj-0J36d4Z"
      },
      "execution_count": null,
      "outputs": []
    },
    {
      "cell_type": "code",
      "source": [
        "#Activity 3b: Break\n",
        "x = 0;\n",
        "\n",
        "while (x < 6) :\n",
        "  x = x + 1\n",
        "  print(\"Count: \", x) #this will from 2  \n",
        "  if x > 2:\n",
        "    break #exits loop when x == 3\n",
        "    else : \n",
        "      print(\"We're less than 3!\") #prints until x == 3"
      ],
      "metadata": {
        "id": "8Y-I7RnH6epg"
      },
      "execution_count": null,
      "outputs": []
    },
    {
      "cell_type": "markdown",
      "source": [
        ""
      ],
      "metadata": {
        "id": "_ngNi7e4_Bot"
      }
    },
    {
      "cell_type": "markdown",
      "source": [
        "#Activity 4: While, If, Else"
      ],
      "metadata": {
        "id": "Wv4sbttV_KJX"
      }
    },
    {
      "cell_type": "code",
      "source": [
        "#Activity 4: While, If, Else\n",
        "x = 0;\n",
        "\n",
        "while x < 10 :\n",
        "  print(\"Count from zero\", x)\n",
        "  x = x + 1\n",
        "  while x <= 5 :\n",
        "    print(\"not quite halfway!\")\n",
        "    break\n",
        "\n",
        "# More Advanced - Add up subsequent numbers - Fibonacci Series\n",
        "index = 0\n",
        "\n",
        "first_value = 0\n",
        "second_value = 1\n",
        "\n",
        "while(index < 10):\n",
        "  if(index <= 1):\n",
        "    Next = index\n",
        "    else:\n",
        "      Next = first_value + second_value\n",
        "      first_value = second_value\n",
        "      second_value = Next\n",
        "      print(Next)\n",
        "      index = index + 1"
      ],
      "metadata": {
        "id": "EugLXnHb6m4j"
      },
      "execution_count": null,
      "outputs": []
    }
  ]
}
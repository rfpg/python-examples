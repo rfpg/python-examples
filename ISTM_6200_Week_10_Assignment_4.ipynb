{
  "nbformat": 4,
  "nbformat_minor": 0,
  "metadata": {
    "colab": {
      "name": " ISTM 6200 - Week 10 - Assignment 4.ipynb",
      "provenance": [],
      "collapsed_sections": [],
      "include_colab_link": true
    },
    "kernelspec": {
      "name": "python3",
      "display_name": "Python 3"
    },
    "language_info": {
      "name": "python"
    }
  },
  "cells": [
    {
      "cell_type": "markdown",
      "metadata": {
        "id": "view-in-github",
        "colab_type": "text"
      },
      "source": [
        "<a href=\"https://colab.research.google.com/github/rfpg/python-examples/blob/main/ISTM_6200_Week_10_Assignment_4.ipynb\" target=\"_parent\"><img src=\"https://colab.research.google.com/assets/colab-badge.svg\" alt=\"Open In Colab\"/></a>"
      ]
    },
    {
      "cell_type": "markdown",
      "source": [
        "# Welcome to the Learning Assignment for Week 10\n"
      ],
      "metadata": {
        "id": "8z51quTpLgtU"
      }
    },
    {
      "cell_type": "markdown",
      "source": [
        "## **A few things to note before you begin:**\n",
        "\n",
        "*  The scope in this Colab session is **global**, meaning you can use variables your create in earlier code cells. \n",
        "\n",
        "*  The **order of execution matters** as does the amount of times you run a single code cell during the same session.\n",
        "\n",
        "## **Here are the steps to complete the assignment:**\n",
        "0. Watch [this video](https://www.linkedin.com/learning/python-essential-training-14898805/how-computers-think) about how computers think.\n",
        "1. Click the **Copy to Drive** button of the read-only assignment document.\n",
        "2. Once you've made your own copy, follow the prompts written above each code snippet to guide the completion of each code cell.\n",
        "3. Run your code cells to make sure they are correct by clicking on the **Play** button.\n",
        "4. When your code cells have been completed, download the completed **.ipynb** notebook and upload it to the Blackboard assignment page."
      ],
      "metadata": {
        "id": "-img1aM5BoyY"
      }
    },
    {
      "cell_type": "markdown",
      "source": [
        "## Activity 1: construct and add entries to a dictionary data structure. Use the console to allow the user to input entries into the dictionary."
      ],
      "metadata": {
        "id": "wKOVGK9hLHLG"
      }
    },
    {
      "cell_type": "code",
      "execution_count": null,
      "metadata": {
        "id": "eHBcoVLSK1fa"
      },
      "outputs": [],
      "source": [
        "#Example\n",
        "str = 'the quick brown fox jumps over the lazy dog.'\n",
        "\n",
        "def word_count(str): \n",
        "  counts = dict() # create blank dictionary\n",
        "  words = str.split()  # split up into individual words using string method\n",
        "  \n",
        "  for word in words: # use for loop to check word occurrences\n",
        "      if word in counts: \n",
        "        counts[word] += 1 #increment key value by one is=f the word occurs\n",
        "      else: counts[word] = 1 # else word occurrence is equal to 1\n",
        "  return counts # return updated dictionary once words have been checked\n",
        "\n",
        "print(word_count(str))\n",
        "\n",
        "\n",
        "#Write your code here"
      ]
    }
  ]
}
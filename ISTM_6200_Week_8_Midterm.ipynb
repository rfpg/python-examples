{
  "nbformat": 4,
  "nbformat_minor": 0,
  "metadata": {
    "colab": {
      "name": "ISTM 6200 - Week 8 - Midterm.ipynb",
      "provenance": [],
      "collapsed_sections": [],
      "include_colab_link": true
    },
    "kernelspec": {
      "name": "python3",
      "display_name": "Python 3"
    },
    "language_info": {
      "name": "python"
    }
  },
  "cells": [
    {
      "cell_type": "markdown",
      "metadata": {
        "id": "view-in-github",
        "colab_type": "text"
      },
      "source": [
        "<a href=\"https://colab.research.google.com/github/rfpg/python-examples/blob/main/ISTM_6200_Week_8_Midterm.ipynb\" target=\"_parent\"><img src=\"https://colab.research.google.com/assets/colab-badge.svg\" alt=\"Open In Colab\"/></a>"
      ]
    },
    {
      "cell_type": "markdown",
      "source": [
        "#**Midterm Exam**\n"
      ],
      "metadata": {
        "id": "8z51quTpLgtU"
      }
    },
    {
      "cell_type": "markdown",
      "source": [
        "## **A few things to note before you begin:**\n",
        "\n",
        "*  The scope in this Colab session is **global**, meaning you can use variables your create in earlier code cells. \n",
        "\n",
        "*  The **order of execution matters** as does the amount of times you run a single code cell during the same session.\n",
        "\n",
        "## **Here are the steps to complete the assignment:**\n",
        "0. Watch [this video](https://www.linkedin.com/learning/python-essential-training-14898805/how-computers-think) about how computers think.\n",
        "1. Click the **Copy to Drive** button of the read-only assignment document.\n",
        "2. Once you've made your own copy, follow the prompts written above each code snippet to guide the completion of each code cell.\n",
        "3. Run your code cells to make sure they are correct by clicking on the **Play** button.\n",
        "4. When your code cells have been completed, download the completed **.ipynb** notebook and upload it to the Blackboard assignment page."
      ],
      "metadata": {
        "id": "-img1aM5BoyY"
      }
    },
    {
      "cell_type": "markdown",
      "source": [
        "###Midterm Question 1: write a **function** that accepts a float (e.g., 3.14) and returns the integer form of that number."
      ],
      "metadata": {
        "id": "wKOVGK9hLHLG"
      }
    },
    {
      "cell_type": "code",
      "execution_count": null,
      "metadata": {
        "id": "eHBcoVLSK1fa"
      },
      "outputs": [],
      "source": [
        "#Write your answer here\n"
      ]
    },
    {
      "cell_type": "markdown",
      "source": [
        "###Midterm Question 2: Determine how many stock exchanges are listed in the supplied string using common string methods?"
      ],
      "metadata": {
        "id": "aUs8zNEr-w-K"
      }
    },
    {
      "cell_type": "code",
      "source": [
        "StockExchanges = \"Nasdaq Composite: −74.89 (0.58%); S&P 500: −2.97 (0.071%); Dow Jones Industrial Average: +27.16 (0.082%);\"\n",
        "#Write your answer here\n",
        "\n"
      ],
      "metadata": {
        "id": "_oqPa_cqq13Y"
      },
      "execution_count": null,
      "outputs": []
    },
    {
      "cell_type": "markdown",
      "source": [
        "###Midterm Question 3: How can you use join method for a list be used to concantenate its respective elements?\n",
        "\n",
        "\n"
      ],
      "metadata": {
        "id": "0vcr5YW--7q7"
      }
    },
    {
      "cell_type": "code",
      "source": [
        "#Write your answer here\n"
      ],
      "metadata": {
        "id": "P2gj-0J36d4Z"
      },
      "execution_count": null,
      "outputs": []
    },
    {
      "cell_type": "markdown",
      "source": [
        "###Midterm Question 4: How might you write a function that uses a for loop to convert the given list back to a string? Print the result."
      ],
      "metadata": {
        "id": "AMnToVrJd_hK"
      }
    },
    {
      "cell_type": "code",
      "source": [
        "#Write your answer here\n"
      ],
      "metadata": {
        "id": "FwNW0omEeVoV"
      },
      "execution_count": null,
      "outputs": []
    }
  ]
}
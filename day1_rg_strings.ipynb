{
  "nbformat": 4,
  "nbformat_minor": 0,
  "metadata": {
    "colab": {
      "provenance": [],
      "authorship_tag": "ABX9TyOTchZLD5Sk6xXsdjDJW+P+",
      "include_colab_link": true
    },
    "kernelspec": {
      "name": "python3",
      "display_name": "Python 3"
    },
    "language_info": {
      "name": "python"
    }
  },
  "cells": [
    {
      "cell_type": "markdown",
      "metadata": {
        "id": "view-in-github",
        "colab_type": "text"
      },
      "source": [
        "<a href=\"https://colab.research.google.com/github/rfpg/python-examples/blob/main/day1_rg_strings.ipynb\" target=\"_parent\"><img src=\"https://colab.research.google.com/assets/colab-badge.svg\" alt=\"Open In Colab\"/></a>"
      ]
    },
    {
      "cell_type": "markdown",
      "source": [
        "#An Introduction to Strings and String Methods in Python\n",
        "\n",
        "Strings, in simple terms, are structures that are comprised on plain text or characters. They form an important basis in how we can use Python to analyze large bodies of text. You need to know how to use strings in order to engage with more advanced applications like predictive text or grammar checks. That's what we'll focus on in this lesson.\n",
        "\n",
        "##Learning Objectives\n",
        "\n",
        "1.   Create string variables containing palindromes.\n",
        "2.   Explore the use of indexing to retrieve specific characters in your text.\n",
        "1.   Count the number of characters in a given string.\n",
        "1.   Optimize the structure of string by removing unnecessary spaces or letters.\n",
        "2.   Utilize string methods to examine segments of your string. \n",
        "1.   Create fun puzzles/ciphers by offsetting characters in a string.\n",
        "\n",
        "\n"
      ],
      "metadata": {
        "id": "3XW2ISnUW4ta"
      }
    },
    {
      "cell_type": "markdown",
      "source": [
        "### **Example 1: Here's a simple palindrome as a string. It reads the same left-to-right and right-to-left.**"
      ],
      "metadata": {
        "id": "OPliUulIZGa-"
      }
    },
    {
      "cell_type": "code",
      "source": [
        "palindrome = \"race car\"\n",
        "\n",
        "# Let's print the string to our console. \n",
        "# Again, we can print by typing the word, \"print\" with our variable name nested in parentheses \n",
        "# Or by simply typing the name of our variable but only if it's the only item in the code cell.\n",
        "\n",
        "print(palindrome)"
      ],
      "metadata": {
        "colab": {
          "base_uri": "https://localhost:8080/"
        },
        "id": "SnrtjJSqXBD0",
        "outputId": "5edf1201-8e59-44b8-ec82-e5dff3e9c5b7"
      },
      "execution_count": null,
      "outputs": [
        {
          "output_type": "stream",
          "name": "stdout",
          "text": [
            "race car\n"
          ]
        }
      ]
    },
    {
      "cell_type": "markdown",
      "source": [
        "###**Consider these points**\n",
        "* Note that there's a space between the words \"race\" and \"car\". \n",
        "* The text \"race car\" is now stored in **string** called \"palindrome.\"\n",
        "* When using text in a computer program, it's a good idea to think about how we can optimize that text before doing something with it.\n",
        "\n",
        "###**Consider these questions**\n",
        "* How might a computer recognize a palindrome?\n",
        "* How might we augment the text to make it easier to discern?\n",
        "* How might we get rid of the space in-between the two words so we can write a more helpful computer program? \n",
        "* We can use a python string **method** to remove that space. \n",
        "\n",
        "A **method** is a tool that performs a specific function on a specific thing. It's not too dissimilar to the different blades on a swiss army knife. Each of the blades usually have specific applications or use-cases. It could be a blade to saw a piece of wood or to peel an apple. \n",
        "\n",
        "\n",
        "###**How do programmers talk about this stuff?**\n",
        "Programmers might refer to the **thing** in question here as an **object** and the action to be taken as a **method** and the process of applying the tool as an **invocation**. \n",
        "\n",
        "*** A technical detail: in Python, some functions are associated with a particular class of objects (e.g., strings). The word method is used in this case, and we have a new way to call them: the dot operator. ***\n",
        "\n",
        "`myString.method()`\n",
        "\n",
        "We'll discuss methods with more examples as we move forward. For now, all you need to know is that we can apply this kind of very specific tooling by placing a period after the name of our thing and providing the name of the tool that we need. The tool or method we need in this case is called **\"replace\"** and we use it to replace the whitespace with effectively a non-space. This is similar to find and replace in a text editor."
      ],
      "metadata": {
        "id": "t_kZ6hBebT-4"
      }
    },
    {
      "cell_type": "markdown",
      "source": [],
      "metadata": {
        "id": "F3FT-Ir6XBiS"
      }
    },
    {
      "cell_type": "code",
      "source": [
        "palindrome_nospaces = palindrome.replace(\" \", \"\")\n",
        "\n",
        "#Let's print the result to see if the method did what we wanted it to do!\n",
        "\n",
        "palindrome_nospaces"
      ],
      "metadata": {
        "colab": {
          "base_uri": "https://localhost:8080/",
          "height": 35
        },
        "id": "S679FjrrdDaw",
        "outputId": "d386cb36-53a1-4262-899e-dcf93114c7c0"
      },
      "execution_count": null,
      "outputs": [
        {
          "output_type": "execute_result",
          "data": {
            "text/plain": [
              "'racecar'"
            ],
            "application/vnd.google.colaboratory.intrinsic+json": {
              "type": "string"
            }
          },
          "metadata": {},
          "execution_count": 9
        }
      ]
    },
    {
      "cell_type": "markdown",
      "source": [
        "At this point, we now have two strings or two versions of our text."
      ],
      "metadata": {
        "id": "fIX4_dlmh2ae"
      }
    },
    {
      "cell_type": "code",
      "source": [
        "palindrome, palindrome_nospaces"
      ],
      "metadata": {
        "colab": {
          "base_uri": "https://localhost:8080/"
        },
        "id": "yYDkmlysnQXL",
        "outputId": "375baf49-7992-4a25-ddc1-26235e5b4009"
      },
      "execution_count": null,
      "outputs": [
        {
          "output_type": "execute_result",
          "data": {
            "text/plain": [
              "('race car', 'racecar')"
            ]
          },
          "metadata": {},
          "execution_count": 10
        }
      ]
    },
    {
      "cell_type": "markdown",
      "source": [
        "A human might see these both as equivalent forms of a given palindrome but a computer will not. One basic difference is each string's respective length. How many characters exist in each string of text? Let's use the function **\"len\"** to calculate the number of characters for each of our strings and print the lengths to our console. Notice that we write len with parentheses like we write print above. There's no variable name or dot included in how we write out the code. Just note the difference for now. More on this later."
      ],
      "metadata": {
        "id": "XEG9M61ipKqT"
      }
    },
    {
      "cell_type": "code",
      "source": [
        "len(palindrome)"
      ],
      "metadata": {
        "colab": {
          "base_uri": "https://localhost:8080/"
        },
        "id": "uPYnfbxjpPkH",
        "outputId": "3928b25a-2ea7-4625-d5e4-b0f25546eebb"
      },
      "execution_count": null,
      "outputs": [
        {
          "output_type": "execute_result",
          "data": {
            "text/plain": [
              "8"
            ]
          },
          "metadata": {},
          "execution_count": 11
        }
      ]
    },
    {
      "cell_type": "code",
      "source": [
        "len(palindrome_nospaces)"
      ],
      "metadata": {
        "colab": {
          "base_uri": "https://localhost:8080/"
        },
        "id": "-leJ0lDLvenB",
        "outputId": "56dc418b-534b-4307-857c-194a49a7dd86"
      },
      "execution_count": null,
      "outputs": [
        {
          "output_type": "execute_result",
          "data": {
            "text/plain": [
              "7"
            ]
          },
          "metadata": {},
          "execution_count": 12
        }
      ]
    },
    {
      "cell_type": "markdown",
      "source": [
        "We see that our original text has **8** characters including the blank space, whereas our text without the space has **7** characters. Knowing the length of a string of plain text allows us to search within the bounds of the text for similarities and differences using out methods. Here's a basic example where use the \"index\" method to find exactly where the space occurs in our original palindrome."
      ],
      "metadata": {
        "id": "wDNLgfAWw1Y7"
      }
    },
    {
      "cell_type": "code",
      "source": [
        "palindrome.index(' ')"
      ],
      "metadata": {
        "colab": {
          "base_uri": "https://localhost:8080/"
        },
        "id": "IrW4yeYmw1E3",
        "outputId": "da7f5b44-028b-4646-bdd0-c80eed60cbd7"
      },
      "execution_count": null,
      "outputs": [
        {
          "output_type": "execute_result",
          "data": {
            "text/plain": [
              "4"
            ]
          },
          "metadata": {},
          "execution_count": 13
        }
      ]
    },
    {
      "cell_type": "markdown",
      "source": [
        "The number that is returned represents the index within the string where the space exists. Remember, in programming languauges, we count from 0. Take a moment to write out the original palindrome with the indices 0 through 4 underneath each of the characters to get a clearer sense of how this works."
      ],
      "metadata": {
        "id": "fnJDBZTKyXQ1"
      }
    },
    {
      "cell_type": "markdown",
      "source": [
        "We can use indices to query where certain letters are in a given string."
      ],
      "metadata": {
        "id": "jQA37n_QynKs"
      }
    },
    {
      "cell_type": "code",
      "source": [
        "firstLetter = palindrome[0]\n",
        "length = len(palindrome)\n",
        "lastLetter = palindrome[length-1]\n",
        "\n",
        "#print the result\n",
        "firstLetter, lastLetter"
      ],
      "metadata": {
        "colab": {
          "base_uri": "https://localhost:8080/"
        },
        "id": "0yBF67EH_JMH",
        "outputId": "1525039b-eed1-48a8-9869-8c1f9d190444"
      },
      "execution_count": null,
      "outputs": [
        {
          "output_type": "execute_result",
          "data": {
            "text/plain": [
              "('r', 'r')"
            ]
          },
          "metadata": {},
          "execution_count": 14
        }
      ]
    },
    {
      "cell_type": "markdown",
      "source": [
        "We can also shift the characters around to make fun puzzles. We can use the `ord()` function to convert the character to an integer and `chr()` to convert it back to a char."
      ],
      "metadata": {
        "id": "z5ZgMmgz-uJQ"
      }
    },
    {
      "cell_type": "code",
      "source": [
        "firstLetterAsNumber = ord(firstLetter)\n",
        "\n",
        "#print \n",
        "print(firstLetterAsNumber)\n",
        "\n",
        "newLetter = firstLetterAsNumber + 2;\n",
        "\n",
        "#print \n",
        "print(newLetter)\n",
        "\n",
        "chr(newLetter)"
      ],
      "metadata": {
        "colab": {
          "base_uri": "https://localhost:8080/",
          "height": 71
        },
        "id": "rqzRIL-_CE5C",
        "outputId": "e40a3bc2-7da7-463c-a548-9ae4c784046e"
      },
      "execution_count": null,
      "outputs": [
        {
          "output_type": "stream",
          "name": "stdout",
          "text": [
            "114\n",
            "116\n"
          ]
        },
        {
          "output_type": "execute_result",
          "data": {
            "text/plain": [
              "'t'"
            ],
            "application/vnd.google.colaboratory.intrinsic+json": {
              "type": "string"
            }
          },
          "metadata": {},
          "execution_count": 15
        }
      ]
    },
    {
      "cell_type": "markdown",
      "source": [
        "##Exercise 1\n",
        "Given the string \"dnktt\" and the knowledge that each letter is offset by 2, use Python to decode the message one letter at a time."
      ],
      "metadata": {
        "id": "2WAH8yMlDoSv"
      }
    },
    {
      "cell_type": "code",
      "source": [
        "secret_message = \"dnkuu\"\n",
        "\n",
        "#hint: use ord() and chr() to convert each letter to a number and shift the letters by 2! Note the last two letters are the same!\n"
      ],
      "metadata": {
        "id": "bUdz1eczFSN4"
      },
      "execution_count": null,
      "outputs": []
    },
    {
      "cell_type": "markdown",
      "source": [
        "#Solution"
      ],
      "metadata": {
        "id": "aAnEefvUFfCh"
      }
    },
    {
      "cell_type": "code",
      "source": [
        "#nice, nested solution\n",
        "\n",
        "one = chr(ord(secret_message[0]) - 2)\n",
        "two = chr(ord(secret_message[1]) - 2)\n",
        "three = chr(ord(secret_message[2]) - 2)\n",
        "four = chr(ord(secret_message[3]) - 2)\n",
        "\n",
        "one, two, three, four, four"
      ],
      "metadata": {
        "colab": {
          "base_uri": "https://localhost:8080/"
        },
        "id": "yHAOax7lFpiU",
        "outputId": "be0d3752-bb97-460f-9a3f-4794e230baac"
      },
      "execution_count": null,
      "outputs": [
        {
          "output_type": "execute_result",
          "data": {
            "text/plain": [
              "('b', 'l', 'i', 's', 's')"
            ]
          },
          "metadata": {},
          "execution_count": 17
        }
      ]
    },
    {
      "cell_type": "markdown",
      "source": [
        "\n",
        "\n",
        "---\n",
        "\n"
      ],
      "metadata": {
        "id": "6rr9ijaZKBSI"
      }
    },
    {
      "cell_type": "markdown",
      "source": [
        "#What have we learned about strings so far?\n",
        "* We've learned that each letter in a string has its own index.\n",
        "  * e.g., the letter at index 1 of the string, \"hello\", would be 'e'.\n",
        "  * i.e., we can use that index value to call and act on its associated value.\n",
        "* We applied string **methods** to manipulate basic text. "
      ],
      "metadata": {
        "id": "i-Xp2rwmHBAw"
      }
    },
    {
      "cell_type": "markdown",
      "source": [
        "###Let's look at some text from well-known publications.\n",
        "\n",
        "Let's imagine we are trying to build a dataset of newspaper headlines so that we can do some kind of text analysis on it. Perhaps you want to go through them all to see if they have a particular word, or how far into the headline a particular word appears. We won't be writing the code to scrape the website here, right now, however we can dive into some of the steps that might be involved in working with that kind of text.\n",
        "\n",
        "Here's an example from the New York Times:\n",
        "\n",
        "\"Tiny Vanuatu Uses Its ‘Unimportance’ to Launch Big Climate Ideas\""
      ],
      "metadata": {
        "id": "uqC_G9k7S_up"
      }
    },
    {
      "cell_type": "markdown",
      "source": [
        "You can use single quotes or double quotes. **Just keep it consistent.**"
      ],
      "metadata": {
        "id": "7A7tt_aQJx4S"
      }
    },
    {
      "cell_type": "code",
      "source": [
        "headline = 'Tiny Vanuatu Uses Its ‘Unimportance’ to Launch Big Climate Ideas'"
      ],
      "metadata": {
        "id": "9ppxDQYUKkbZ"
      },
      "execution_count": 4,
      "outputs": []
    },
    {
      "cell_type": "code",
      "source": [
        "headline = 'Tiny Vanuatu Uses Its ‘Unimportance’ to Launch Big Climate Ideas'"
      ],
      "metadata": {
        "id": "ld-huMhqNMw_"
      },
      "execution_count": 3,
      "outputs": []
    },
    {
      "cell_type": "markdown",
      "source": [
        "The **`count()`** method gives the number of occurrences of a substring in a range. The arguments for the range are optional. \n",
        "\n",
        "*Syntax:*\n",
        "\n",
        "`str.count(substr, start, end)`\n",
        "\n",
        "`substring` is the thing we want to count (a letter)\n",
        "Here, `start` and `end` are integers that indicate the indices where to start and end the count. For example, if we want to know how many instances of the letter `'a'` we have in the whole string, we can do:"
      ],
      "metadata": {
        "id": "aMLlTfZuKnD8"
      }
    },
    {
      "cell_type": "code",
      "source": [
        "headline.count('a')"
      ],
      "metadata": {
        "colab": {
          "base_uri": "https://localhost:8080/"
        },
        "id": "xNoWhxIfKTfJ",
        "outputId": "09303b52-8018-4a0f-a9ca-90f99f856317"
      },
      "execution_count": 35,
      "outputs": [
        {
          "output_type": "execute_result",
          "data": {
            "text/plain": [
              "6"
            ]
          },
          "metadata": {},
          "execution_count": 35
        }
      ]
    },
    {
      "cell_type": "markdown",
      "source": [
        "If we want to know how many of those 'a' characters are in the range [0:10] (first 10 chars), we do:"
      ],
      "metadata": {
        "id": "vi79zsycKXEg"
      }
    },
    {
      "cell_type": "code",
      "source": [
        "headline.count('a', 0, 10)"
      ],
      "metadata": {
        "colab": {
          "base_uri": "https://localhost:8080/"
        },
        "id": "XZHCI5ExKYSg",
        "outputId": "64955789-9eb9-4026-d298-dcb53286c927"
      },
      "execution_count": 36,
      "outputs": [
        {
          "output_type": "execute_result",
          "data": {
            "text/plain": [
              "2"
            ]
          },
          "metadata": {},
          "execution_count": 36
        }
      ]
    },
    {
      "cell_type": "markdown",
      "source": [
        "We can read more about string methods in the [Python documentation.](https://docs.python.org/3/library/stdtypes.html#string-methods). Let's look at two more string methods that may serve us well."
      ],
      "metadata": {
        "id": "-q4lLrIFgzZF"
      }
    },
    {
      "cell_type": "markdown",
      "source": [
        "### `find()`\n",
        "\n",
        "The **find()** method tells us if a string `'substr'` occurs in the string we are applying the method on.\n",
        "\n",
        "\n",
        "*Syntax:*\n",
        "\n",
        "`str.find(substr)`\n",
        "\n",
        "If the string `'substr'`is in the original string, the `find()` method will return the index where the substring starts, otherwise it will return `-1`."
      ],
      "metadata": {
        "id": "Wh0KC-PKTNaR"
      }
    },
    {
      "cell_type": "markdown",
      "source": [
        "What if we're looking for any number or one of many different possible substrings? `find()` is rather simple in what it can do. \n",
        "\n",
        "Let's do the following:\n",
        "\n",
        "1. Use the count() method to count how many letters 'c' are in the headline.\n",
        "2. Use the find() method to find the position of the word 'climate' in theheadline.\n"
      ],
      "metadata": {
        "id": "XDjsd2ObhmnW"
      }
    },
    {
      "cell_type": "code",
      "source": [
        "headline.count('c')"
      ],
      "metadata": {
        "colab": {
          "base_uri": "https://localhost:8080/"
        },
        "id": "qE7eHUabiRXw",
        "outputId": "03be7221-07a8-4b34-c7a1-289452e0921a"
      },
      "execution_count": 30,
      "outputs": [
        {
          "output_type": "execute_result",
          "data": {
            "text/plain": [
              "2"
            ]
          },
          "metadata": {},
          "execution_count": 30
        }
      ]
    },
    {
      "cell_type": "code",
      "source": [
        "headline.find('climate')"
      ],
      "metadata": {
        "colab": {
          "base_uri": "https://localhost:8080/"
        },
        "id": "A8Hrv3w9iL_N",
        "outputId": "e766705f-bb63-4564-ab67-75741d1a1859"
      },
      "execution_count": 31,
      "outputs": [
        {
          "output_type": "execute_result",
          "data": {
            "text/plain": [
              "-1"
            ]
          },
          "metadata": {},
          "execution_count": 31
        }
      ]
    },
    {
      "cell_type": "markdown",
      "source": [
        "Wait? Why is `find()` returning `-1`. We can see that the word, \"climate\", does indeed feature in our example headline. So, what's up? The case of our text matters!"
      ],
      "metadata": {
        "id": "fbDZgLTLi9kp"
      }
    },
    {
      "cell_type": "code",
      "source": [
        "headline.find('Climate')"
      ],
      "metadata": {
        "colab": {
          "base_uri": "https://localhost:8080/"
        },
        "id": "tCL4qSVLi8Vc",
        "outputId": "d3edd9ca-20a6-4e1a-df4d-f0b21267ad78"
      },
      "execution_count": 14,
      "outputs": [
        {
          "output_type": "execute_result",
          "data": {
            "text/plain": [
              "51"
            ]
          },
          "metadata": {},
          "execution_count": 14
        }
      ]
    },
    {
      "cell_type": "markdown",
      "source": [
        "What's a quick way to level the playing field?"
      ],
      "metadata": {
        "id": "z0N8hCMojQ-U"
      }
    },
    {
      "cell_type": "code",
      "source": [
        "headline.lower().find('climate')"
      ],
      "metadata": {
        "colab": {
          "base_uri": "https://localhost:8080/"
        },
        "id": "Mjp01OEUjVN4",
        "outputId": "b6afc17b-ef66-4459-c742-c9e54b0cf25e"
      },
      "execution_count": 16,
      "outputs": [
        {
          "output_type": "execute_result",
          "data": {
            "text/plain": [
              "51"
            ]
          },
          "metadata": {},
          "execution_count": 16
        }
      ]
    },
    {
      "cell_type": "markdown",
      "source": [
        "#Exercise 2"
      ],
      "metadata": {
        "id": "l14ocJALhlBe"
      }
    },
    {
      "cell_type": "markdown",
      "source": [
        "Let's see if we can bring this all together to solve a problem. Don't worry if you struggle a bit, you're still starting out and we're here to guide you through this exercise. Try to write one code cell for each request to help step through the problem.\n",
        "\n",
        "You are given a string with some simple text and a brand new method that we haven't looked at called `split()`. What does `split()` do? Where can we find out more about our methods? **[The documentation](https://docs.python.org/3/library/stdtypes.html#string-methods).**"
      ],
      "metadata": {
        "id": "esU2LYZPksSR"
      }
    },
    {
      "cell_type": "code",
      "source": [
        "\"Stately, plump Buck Mulligan came from the stairhead, bearing a bowl of lather on which a mirror and razor lay crossed. A yellow dressinggown, ungirdled, was sustained gently behind him on the mild morning air.\""
      ],
      "metadata": {
        "id": "olZXnuyCkr5y"
      },
      "execution_count": null,
      "outputs": []
    },
    {
      "cell_type": "markdown",
      "source": [
        "Please do the following to complete the exercise:\n",
        "  1. Assign the text to a variable and ensure the entire string is lowercase.\n",
        "  2. So far, we have only counted the instances of single letters. Can we use `count()` to return the number of times \"ing\" occurs in this text?\n",
        "  3. Use the `find()` string method to determine if the text is more than one sentence. Hint: What would we use as our separator? \n",
        "  4. `split()` the string into two sentences.\n",
        "  5. Print the result to the console. How does it look different?"
      ],
      "metadata": {
        "id": "g1GMrJXGluna"
      }
    },
    {
      "cell_type": "code",
      "source": [
        "joyce = \"Stately, plump Buck Mulligan came from the stairhead, bearing a bowl of lather on which a mirror and razor lay crossed. A yellow dressinggown, ungirdled, was sustained gently behind him on the mild morning air.\""
      ],
      "metadata": {
        "id": "2OcTN8tpn7vp"
      },
      "execution_count": 38,
      "outputs": []
    },
    {
      "cell_type": "code",
      "source": [
        "joyce.count(\"ing\")"
      ],
      "metadata": {
        "colab": {
          "base_uri": "https://localhost:8080/"
        },
        "id": "DuzunGJwsfKh",
        "outputId": "a47de017-abbb-4ed8-8c61-509baee77425"
      },
      "execution_count": 40,
      "outputs": [
        {
          "output_type": "execute_result",
          "data": {
            "text/plain": [
              "3"
            ]
          },
          "metadata": {},
          "execution_count": 40
        }
      ]
    },
    {
      "cell_type": "code",
      "source": [
        "joyce.lower()"
      ],
      "metadata": {
        "colab": {
          "base_uri": "https://localhost:8080/",
          "height": 35
        },
        "id": "Gz19hBc6oVDf",
        "outputId": "3c4fd1f3-1d8c-45c4-ecee-f5e37eed41eb"
      },
      "execution_count": 41,
      "outputs": [
        {
          "output_type": "execute_result",
          "data": {
            "text/plain": [
              "'stately, plump buck mulligan came from the stairhead, bearing a bowl of lather on which a mirror and razor lay crossed. a yellow dressinggown, ungirdled, was sustained gently behind him on the mild morning air.'"
            ],
            "application/vnd.google.colaboratory.intrinsic+json": {
              "type": "string"
            }
          },
          "metadata": {},
          "execution_count": 41
        }
      ]
    },
    {
      "cell_type": "code",
      "source": [
        "result = joyce.split(\".\")\n",
        "print(result)"
      ],
      "metadata": {
        "colab": {
          "base_uri": "https://localhost:8080/"
        },
        "id": "5v7J6Us4oWeN",
        "outputId": "a95b1200-4b5f-4a78-be0e-48ad42ff3314"
      },
      "execution_count": 42,
      "outputs": [
        {
          "output_type": "stream",
          "name": "stdout",
          "text": [
            "['Stately, plump Buck Mulligan came from the stairhead, bearing a bowl of lather on which a mirror and razor lay crossed', ' A yellow dressinggown, ungirdled, was sustained gently behind him on the mild morning air', '']\n"
          ]
        }
      ]
    },
    {
      "cell_type": "markdown",
      "source": [
        "##Notes for Team\n",
        "\n",
        "At this point in the lesson, I would hope the students would feel somewhat comfortable exploring methods and the documentation with our guidance and so I tried to build a simple exercise to test this theory. I think it's alright to let the students struggle a bit with the exercise and for all of us to walk around the room and help them out as they go. \n",
        "\n",
        "I removed the note about the `start` and `end` indices for `find()` because this is something that could be introduced later with a better example.\n",
        "\n",
        "I did not include `startswith()` because I think it could be introduced later with a good example as opposed to tacked on to the end of this lesson. It will become immediately useful when we use split() to make a list of multiple strings.\n",
        "\n",
        "I included `split()` as a new method to explore within the context of a short exercise to serve as a nice segue to the next topic it returns a list of strings."
      ],
      "metadata": {
        "id": "ixstkLdejupQ"
      }
    }
  ]
}
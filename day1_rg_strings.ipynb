{
  "nbformat": 4,
  "nbformat_minor": 0,
  "metadata": {
    "colab": {
      "provenance": [],
      "collapsed_sections": [
        "aAnEefvUFfCh"
      ],
      "authorship_tag": "ABX9TyN+O5EA0oj9WTumwp/ytI0u",
      "include_colab_link": true
    },
    "kernelspec": {
      "name": "python3",
      "display_name": "Python 3"
    },
    "language_info": {
      "name": "python"
    }
  },
  "cells": [
    {
      "cell_type": "markdown",
      "metadata": {
        "id": "view-in-github",
        "colab_type": "text"
      },
      "source": [
        "<a href=\"https://colab.research.google.com/github/rfpg/python-examples/blob/main/day1_rg_strings.ipynb\" target=\"_parent\"><img src=\"https://colab.research.google.com/assets/colab-badge.svg\" alt=\"Open In Colab\"/></a>"
      ]
    },
    {
      "cell_type": "markdown",
      "source": [
        "#An Introduction to Strings and String Methods in Python\n",
        "\n",
        "Strings, in simple terms, are structures that are comprised on plain text or characters. They form an important basis in how we can use Python to analyze large bodies of text. You need to know how to use strings in order to engage with more advanced applications like predictive text or grammar checks. That's what we'll focus on in this lesson.\n",
        "\n",
        "##Learning Objectives\n",
        "\n",
        "1.   Create string variables containing palindromes.\n",
        "2.   Explore the use of indexing to retrieve specific characters in your text.\n",
        "1.   Count the number of characters in a given string.\n",
        "1.   Optimize the structure of string by removing unnecessary spaces or letters.\n",
        "2.   Utilize string methods to examine segements of your string. \n",
        "\n",
        "\n"
      ],
      "metadata": {
        "id": "3XW2ISnUW4ta"
      }
    },
    {
      "cell_type": "markdown",
      "source": [],
      "metadata": {
        "id": "EmuBi3VBpHeL"
      }
    },
    {
      "cell_type": "markdown",
      "source": [
        "### **Example 1: Here's a simple palindrome as a string. It reads the same left-to-right and right-to-left.**"
      ],
      "metadata": {
        "id": "OPliUulIZGa-"
      }
    },
    {
      "cell_type": "code",
      "source": [
        "palindrome = \"race car\"\n",
        "\n",
        "# Let's print the string to our console. \n",
        "# Again, we can print by typing the word, \"print\" with our variable name nested in parentheses \n",
        "# Or by simply typing the name of our variable but only if it's the only item in the code cell.\n",
        "\n",
        "print(palindrome)"
      ],
      "metadata": {
        "colab": {
          "base_uri": "https://localhost:8080/"
        },
        "id": "SnrtjJSqXBD0",
        "outputId": "d78fc820-a452-4f7d-ad64-56013eeeca8f"
      },
      "execution_count": null,
      "outputs": [
        {
          "output_type": "stream",
          "name": "stdout",
          "text": [
            "race car\n"
          ]
        }
      ]
    },
    {
      "cell_type": "markdown",
      "source": [
        "###**Consider these points**\n",
        "* Note that there's a space between the words \"race\" and \"car\". \n",
        "* The text \"race car\" is now stored in **string** called \"palindrome.\"\n",
        "* When using text in a computer program, it's a good idea to think about how we can optimize that text before doing something with it.\n",
        "\n",
        "###**Consider these questions**\n",
        "* How might a computer recognize a palindrome?\n",
        "* How might we augment the text to make it easier to discern?\n",
        "* How might we get rid of the space in-between the two words so we can write a more helpful computer program? \n",
        "* We can use a python string **method** to remove that space. \n",
        "\n",
        "A **method** is a tool that performs a specific function on a specific thing. It's not too dissimilar to the different blades on a swiss army knife. Each of the blades usually have specific applications or use-cases. It could be a blade to saw a piece of wood or to peel an apple. \n",
        "\n",
        "\n",
        "###**How do programmers talk about this stuff?**\n",
        "Programmers might refer to the **thing** in question here as an **object** and the action to be taken as a **method** and the process of applying the tool as an **invocation**. \n",
        "\n",
        "`myString.method()`\n",
        "\n",
        "We'll discuss methods with more examples as we move forward. \n",
        "\n",
        "For now, all you need to know is that we can apply this kind of very specific tooling by placing a period after the name of our thing and providing the name of the tool that we need. The tool or method we need in this case is called **\"replace\"** and we use it to replace the whitespace with effectively a non-space. This is similar to find and replace in a text editor."
      ],
      "metadata": {
        "id": "t_kZ6hBebT-4"
      }
    },
    {
      "cell_type": "markdown",
      "source": [],
      "metadata": {
        "id": "F3FT-Ir6XBiS"
      }
    },
    {
      "cell_type": "code",
      "source": [
        "palindrome_nospaces = palindrome.replace(\" \", \"\")\n",
        "\n",
        "#Let's print the result to see if the method did what we wanted it to do!\n",
        "\n",
        "palindrome_nospaces"
      ],
      "metadata": {
        "colab": {
          "base_uri": "https://localhost:8080/",
          "height": 35
        },
        "id": "S679FjrrdDaw",
        "outputId": "1c28829f-7114-4277-a121-901ebd2ed5a7"
      },
      "execution_count": null,
      "outputs": [
        {
          "output_type": "execute_result",
          "data": {
            "text/plain": [
              "'racecar'"
            ],
            "application/vnd.google.colaboratory.intrinsic+json": {
              "type": "string"
            }
          },
          "metadata": {},
          "execution_count": 82
        }
      ]
    },
    {
      "cell_type": "markdown",
      "source": [
        "At this point, we now have two strings or two versions of our text."
      ],
      "metadata": {
        "id": "fIX4_dlmh2ae"
      }
    },
    {
      "cell_type": "code",
      "source": [
        "palindrome, palindrome_nospaces"
      ],
      "metadata": {
        "colab": {
          "base_uri": "https://localhost:8080/"
        },
        "id": "yYDkmlysnQXL",
        "outputId": "c42fb33c-f977-4c43-bbdd-52fd4a75a210"
      },
      "execution_count": null,
      "outputs": [
        {
          "output_type": "execute_result",
          "data": {
            "text/plain": [
              "('race car', 'racecar')"
            ]
          },
          "metadata": {},
          "execution_count": 83
        }
      ]
    },
    {
      "cell_type": "markdown",
      "source": [
        "A human might see these both as equivalent forms of a given palindrome but a computer will not. One basic difference is each string's respective length. How many characters exist in each string of text? Let's use the function **\"len\"** to calculate the number of characters for each of our strings and print the lengths to our console. Notice that we write len with parentheses like we write print above. There's no variable name or dot included in how we write out the code. Just note the difference for now. More on this later."
      ],
      "metadata": {
        "id": "XEG9M61ipKqT"
      }
    },
    {
      "cell_type": "code",
      "source": [
        "len(palindrome)"
      ],
      "metadata": {
        "colab": {
          "base_uri": "https://localhost:8080/"
        },
        "id": "uPYnfbxjpPkH",
        "outputId": "85509888-b2fb-4484-b806-dcfdeabd6bd4"
      },
      "execution_count": null,
      "outputs": [
        {
          "output_type": "execute_result",
          "data": {
            "text/plain": [
              "8"
            ]
          },
          "metadata": {},
          "execution_count": 84
        }
      ]
    },
    {
      "cell_type": "code",
      "source": [
        "len(palindrome_nospaces)"
      ],
      "metadata": {
        "colab": {
          "base_uri": "https://localhost:8080/"
        },
        "id": "-leJ0lDLvenB",
        "outputId": "8eee4bf6-4a32-4731-a91c-3d35597e2cfb"
      },
      "execution_count": null,
      "outputs": [
        {
          "output_type": "execute_result",
          "data": {
            "text/plain": [
              "7"
            ]
          },
          "metadata": {},
          "execution_count": 85
        }
      ]
    },
    {
      "cell_type": "markdown",
      "source": [
        "We see that our original text has **8** characters including the blank space, whereas our text without the space has **7** characters. Knowing the length of a string of plain text allows us to search within the bounds of the text for similarities and differences using out methods. Here's a basic example where use the \"index\" method to find exactly where the space occurs in our original palindrome."
      ],
      "metadata": {
        "id": "wDNLgfAWw1Y7"
      }
    },
    {
      "cell_type": "code",
      "source": [
        "palindrome.index(' ')"
      ],
      "metadata": {
        "colab": {
          "base_uri": "https://localhost:8080/"
        },
        "id": "IrW4yeYmw1E3",
        "outputId": "65791d07-ccee-4c0f-ea4b-31eee91bc58a"
      },
      "execution_count": null,
      "outputs": [
        {
          "output_type": "execute_result",
          "data": {
            "text/plain": [
              "4"
            ]
          },
          "metadata": {},
          "execution_count": 86
        }
      ]
    },
    {
      "cell_type": "markdown",
      "source": [
        "The number that is returned represents the index within the string where the space exists. Remember, in programming languauges, we count from 0. Take a moment to write out the original palindrome with the indices 0 through 4 underneath each of the characters to get a clearer sense of how this works."
      ],
      "metadata": {
        "id": "fnJDBZTKyXQ1"
      }
    },
    {
      "cell_type": "markdown",
      "source": [
        "We can use indices to query where certain letters are in a given string."
      ],
      "metadata": {
        "id": "jQA37n_QynKs"
      }
    },
    {
      "cell_type": "code",
      "source": [
        "firstLetter = palindrome[0]\n",
        "length = len(palindrome)\n",
        "lastLetter = palindrome[length-1]\n",
        "\n",
        "#print the result\n",
        "firstLetter, lastLetter"
      ],
      "metadata": {
        "colab": {
          "base_uri": "https://localhost:8080/"
        },
        "id": "0yBF67EH_JMH",
        "outputId": "8365ef8f-d284-4cdb-a2e8-f7c76bb0ab15"
      },
      "execution_count": null,
      "outputs": [
        {
          "output_type": "execute_result",
          "data": {
            "text/plain": [
              "('r', 'r')"
            ]
          },
          "metadata": {},
          "execution_count": 87
        }
      ]
    },
    {
      "cell_type": "markdown",
      "source": [
        "We can also shift the characters around to make fun puzzles. We can use the `ord()` function to convert the character to an integer and `chr()` to convert it back to a char."
      ],
      "metadata": {
        "id": "z5ZgMmgz-uJQ"
      }
    },
    {
      "cell_type": "code",
      "source": [
        "firstLetterAsNumber = ord(firstLetter)\n",
        "\n",
        "#print \n",
        "print(firstLetterAsNumber)\n",
        "\n",
        "newLetter = firstLetterAsNumber + 2;\n",
        "\n",
        "#print \n",
        "print(newLetter)\n",
        "\n",
        "chr(newLetter)"
      ],
      "metadata": {
        "colab": {
          "base_uri": "https://localhost:8080/",
          "height": 71
        },
        "id": "rqzRIL-_CE5C",
        "outputId": "6c3d3901-e2af-42d0-f1cf-d0fb7993502f"
      },
      "execution_count": 112,
      "outputs": [
        {
          "output_type": "stream",
          "name": "stdout",
          "text": [
            "114\n",
            "116\n"
          ]
        },
        {
          "output_type": "execute_result",
          "data": {
            "text/plain": [
              "'t'"
            ],
            "application/vnd.google.colaboratory.intrinsic+json": {
              "type": "string"
            }
          },
          "metadata": {},
          "execution_count": 112
        }
      ]
    },
    {
      "cell_type": "markdown",
      "source": [
        "##Exercise 1\n",
        "Given the string \"dnktt\" and the knowledge that each letter is offset by 2, use Python to decode the message one letter at a time."
      ],
      "metadata": {
        "id": "2WAH8yMlDoSv"
      }
    },
    {
      "cell_type": "code",
      "source": [
        "secret_message = \"dnkuu\"\n",
        "\n",
        "#hint: use ord() and chr() to convert each letter to a number and shift the letters by 2! Note the last two letters are the same!\n"
      ],
      "metadata": {
        "id": "bUdz1eczFSN4"
      },
      "execution_count": 111,
      "outputs": []
    },
    {
      "cell_type": "markdown",
      "source": [
        "#Solution"
      ],
      "metadata": {
        "id": "aAnEefvUFfCh"
      }
    },
    {
      "cell_type": "code",
      "source": [
        "#nice, nested solution\n",
        "\n",
        "one = chr(ord(secret_message[0]) - 2)\n",
        "two = chr(ord(secret_message[1]) - 2)\n",
        "three = chr(ord(secret_message[2]) - 2)\n",
        "four = chr(ord(secret_message[3]) - 2)\n",
        "\n",
        "one, two, three, four, four"
      ],
      "metadata": {
        "colab": {
          "base_uri": "https://localhost:8080/"
        },
        "id": "yHAOax7lFpiU",
        "outputId": "e825ff6a-6dbb-46ef-d67b-084a4d6a41c8"
      },
      "execution_count": 113,
      "outputs": [
        {
          "output_type": "execute_result",
          "data": {
            "text/plain": [
              "('b', 'l', 'i', 's', 's')"
            ]
          },
          "metadata": {},
          "execution_count": 113
        }
      ]
    },
    {
      "cell_type": "markdown",
      "source": [],
      "metadata": {
        "id": "GBcV1Jo_FoXy"
      }
    }
  ]
}